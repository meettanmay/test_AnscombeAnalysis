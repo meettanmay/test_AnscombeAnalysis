{
 "cells": [
  {
   "cell_type": "markdown",
   "metadata": {},
   "source": [
    "# Instructions / Notes: Read these carefully\n",
    "Read and execute each cell in order, without skipping forward.\n",
    "Documentation file for Pandas library (with search facility) is available at http://pandas.pydata.org/pandas-docs/stable/index.html ;\n",
    "Documentation file for Matplotlib plotting library (with search facility) is available at https://matplotlib.org/api/index.html"
   ]
  },
  {
   "cell_type": "code",
   "execution_count": null,
   "metadata": {},
   "outputs": [],
   "source": [
    "# Run the following to import necessary packages and import dataset. Do not use any additional plotting libraries.\n",
    "import pandas as pd\n",
    "import numpy as np\n",
    "from IPython.core.interactiveshell import InteractiveShell\n",
    "InteractiveShell.ast_node_interactivity = \"all\"\n",
    "import matplotlib\n",
    "import matplotlib.pyplot as plt\n",
    "%matplotlib inline\n",
    "matplotlib.style.use('ggplot')\n",
    "\n",
    "d1 = \"phase1_dataset1.csv\"\n",
    "d2 = \"phase1_dataset2.csv\"\n",
    "d3 = \"phase1_dataset3.csv\"\n",
    "d4 = \"phase1_dataset4.csv\"\n",
    "\n",
    "df1 = pd.read_csv(d1)\n",
    "df2 = pd.read_csv(d2)\n",
    "df3 = pd.read_csv(d3)\n",
    "df4 = pd.read_csv(d4)\n",
    "df1.head(n=5)"
   ]
  },
  {
   "cell_type": "markdown",
   "metadata": {},
   "source": [
    "Each of the 4 dataframes loaded above represents dataset of 4 car companies A, B, C, D from 182 sites all over the world. For each site,  X: total number of units sold (in 100’s), Y: employee satisfaction on a scale of 1 to 100. Check some of the descriptive (parametric and non-parametric) statistics below for **car company A**."
   ]
  },
  {
   "cell_type": "code",
   "execution_count": null,
   "metadata": {},
   "outputs": [],
   "source": [
    "from IPython.core.interactiveshell import InteractiveShell\n",
    "InteractiveShell.ast_node_interactivity = \"all\"\n",
    "#You will receive 6 outputs: First 3 outputs correspond to parametric statistics of the data (mean of both variables, standard deviation of both variables, Pearson's correlation between both variables), Last 3 outputs correspond to non-parametric statistics of the data (median of both variables, inter-quartile range of both variables, Spearman's correlation between both variables)\n",
    "df1.mean()\n",
    "df1.std()\n",
    "df1.corr(method='pearson')\n",
    "df1.median()\n",
    "df1.quantile(0.75) - df1.quantile(0.25)\n",
    "df1.corr(method='spearman')"
   ]
  },
  {
   "cell_type": "markdown",
   "metadata": {},
   "source": [
    "Each of the 4 dataframes loaded above represents dataset of 4 car companies A, B, C, D from 182 sites all over the world. For each site,  X: total number of units sold (in 100’s), Y: employee satisfaction on a scale of 1 to 100. Check some of the descriptive (parametric and non-parametric) statistics below for **car company B**."
   ]
  },
  {
   "cell_type": "code",
   "execution_count": null,
   "metadata": {},
   "outputs": [],
   "source": [
    "from IPython.core.interactiveshell import InteractiveShell\n",
    "InteractiveShell.ast_node_interactivity = \"all\"\n",
    "#You will receive 6 outputs: First 3 outputs correspond to parametric statistics of the data (mean of both variables, standard deviation of both variables, Pearson's correlation between both variables), Last 3 outputs correspond to non-parametric statistics of the data (median of both variables, inter-quartile range of both variables, Spearman's correlation between both variables)\n",
    "df2.mean()\n",
    "df2.std()\n",
    "df2.corr(method='pearson')\n",
    "df2.median()\n",
    "df2.quantile(0.75) - df2.quantile(0.25)\n",
    "df2.corr(method='spearman')"
   ]
  },
  {
   "cell_type": "markdown",
   "metadata": {},
   "source": [
    "Each of the 4 dataframes loaded above represents dataset of 4 car companies A, B, C, D from 182 sites all over the world. For each site,  X: total number of units sold (in 100’s), Y: employee satisfaction on a scale of 1 to 100. Check some of the descriptive (parametric and non-parametric) statistics below for **car company C**."
   ]
  },
  {
   "cell_type": "code",
   "execution_count": null,
   "metadata": {},
   "outputs": [],
   "source": [
    "from IPython.core.interactiveshell import InteractiveShell\n",
    "InteractiveShell.ast_node_interactivity = \"all\"\n",
    "#You will receive 6 outputs: First 3 outputs correspond to parametric statistics of the data (mean of both variables, standard deviation of both variables, Pearson's correlation between both variables), Last 3 outputs correspond to non-parametric statistics of the data (median of both variables, inter-quartile range of both variables, Spearman's correlation between both variables)\n",
    "df3.mean()\n",
    "df3.std()\n",
    "df3.corr(method='pearson')\n",
    "df3.median()\n",
    "df3.quantile(0.75) - df3.quantile(0.25)\n",
    "df3.corr(method='spearman')"
   ]
  },
  {
   "cell_type": "markdown",
   "metadata": {},
   "source": [
    "Each of the 4 dataframes loaded above represents dataset of 4 car companies A, B, C, D from 182 sites all over the world. For each site,  X: total number of units sold (in 100’s), Y: employee satisfaction on a scale of 1 to 100. Check some of the descriptive (parametric and non-parametric) statistics below for **car company D**."
   ]
  },
  {
   "cell_type": "code",
   "execution_count": null,
   "metadata": {},
   "outputs": [],
   "source": [
    "from IPython.core.interactiveshell import InteractiveShell\n",
    "InteractiveShell.ast_node_interactivity = \"all\"\n",
    "#You will receive 6 outputs: First 3 outputs correspond to parametric statistics of the data (mean of both variables, standard deviation of both variables, Pearson's correlation between both variables), Last 3 outputs correspond to non-parametric statistics of the data (median of both variables, inter-quartile range of both variables, Spearman's correlation between both variables)\n",
    "df4.mean()\n",
    "df4.std()\n",
    "df4.corr(method='pearson')\n",
    "df4.median()\n",
    "df4.quantile(0.75) - df4.quantile(0.25)\n",
    "df4.corr(method='spearman')"
   ]
  },
  {
   "cell_type": "markdown",
   "metadata": {},
   "source": [
    "# TASK\n",
    "Design as many measures/rationales/approaches to determine the most successful car company by considering **only measures based on/derived from the parametric statistics from the list presented to you (mean, standard deviation, Pearson's correlation)**, OR, **only measures based on/derived from the non-parametric statistics from the list presented to you (median, inter-quartile range, Spearman's correlation)**. Your measures should be based on consideration of every data point in the dataset.\n",
    "\n",
    "Write your **conclusion** by changing the variable \"most\\_successful\\_car\\_company\" to A, B, C, D. Also, briefly explain each approach by writing a few sentences in the variable \"rationale\\_number\". If you need to add more rationales, just create new variables and write your reasoning there.\n",
    "\n",
    "**TASK GUIDELINES**: If you need to implement any piece of code before writing down your rationale, a code box is provided below to try out your code. For each approach, change \"corresponding_rationale_number\" variable to indicate what rationale number does your code piece correspond to. "
   ]
  },
  {
   "cell_type": "code",
   "execution_count": null,
   "metadata": {},
   "outputs": [],
   "source": [
    "most_successful_car_company = ' '\n",
    "\n",
    "\n",
    "rationale_1 = \" \"\n",
    "rationale_2 = \" \"\n",
    "#.\n",
    "#.\n",
    "#.\n",
    "#.\n",
    "rationale_n = \" \"\n",
    "\n",
    "\n",
    "#Thanks for completing this phase of the task!! You can now proceed "
   ]
  },
  {
   "cell_type": "code",
   "execution_count": null,
   "metadata": {},
   "outputs": [],
   "source": [
    "#CODE BOX to implement code that is needed to derive a rationale\n",
    "\n",
    "from IPython.core.interactiveshell import InteractiveShell\n",
    "InteractiveShell.ast_node_interactivity = \"all\"\n",
    "\n",
    "#<Your Solution 1>\n",
    "corresponding_rationale_number = \" \"\n",
    "\n",
    "\n",
    "#<Your Solution 2>\n",
    "corresponding_rationale_number = \" \"\n",
    "#.\n",
    "#.\n",
    "#.\n",
    "#.\n",
    "#<Your Solution n>\n",
    "corresponding_rationale_number = \" \"\n",
    "\n",
    "\n",
    "#Press shift+enter to verify everything in your syntax for this solution approach is correct."
   ]
  },
  {
   "cell_type": "markdown",
   "metadata": {},
   "source": [
    "# Prompt A\n",
    "How about trying these solution approaches for this alternative dataset of 4 other car companies E, F, G, H from 182 sites all over the world? For each site, X: total number of units sold (in 100’s), Y: employee satisfaction on a scale of 1 to 100.\n",
    "\n",
    "Write your conclusion by changing the variable \"most\\_successful\\_car\\_company\" to E, F, G, H. Also, briefly explain each approach by writing a few sentences in the variable \"rationale\\_number\". If you need to add more rationales, just create new variables and write your reasoning there.\n",
    "\n",
    "**TASK GUIDELINES**: If you need to implement any piece of code before writing down your rationale, a code box is provided below to try out your code. For each approach, change \"corresponding_rationale_number\" variable to indicate what rationale number does your code piece correspond to."
   ]
  },
  {
   "cell_type": "code",
   "execution_count": null,
   "metadata": {},
   "outputs": [],
   "source": [
    "import pandas as pd\n",
    "import numpy as np\n",
    "from IPython.core.interactiveshell import InteractiveShell\n",
    "InteractiveShell.ast_node_interactivity = \"all\"\n",
    "import matplotlib\n",
    "import matplotlib.pyplot as plt\n",
    "%matplotlib inline\n",
    "matplotlib.style.use('ggplot')\n",
    "d5 = \"phase2_dataset1.csv\"\n",
    "d6 = \"phase2_dataset2.csv\"\n",
    "d7 = \"phase2_dataset3.csv\"\n",
    "d8 = \"phase2_dataset4.csv\"\n",
    "\n",
    "df5 = pd.read_csv(d5)\n",
    "df6 = pd.read_csv(d6)\n",
    "df7 = pd.read_csv(d7)\n",
    "df8 = pd.read_csv(d8)\n",
    "df5.head(n=5)"
   ]
  },
  {
   "cell_type": "code",
   "execution_count": null,
   "metadata": {},
   "outputs": [],
   "source": [
    "most_successful_car_company = ' '\n",
    "\n",
    "rationale_1 = \" \"\n",
    "rationale_2 = \" \"\n",
    "#.\n",
    "#.\n",
    "#.\n",
    "#.\n",
    "rationale_n = \" \"\n",
    "\n",
    "#Thanks for completing this phase of the task!! You can now proceed"
   ]
  },
  {
   "cell_type": "code",
   "execution_count": null,
   "metadata": {},
   "outputs": [],
   "source": [
    "#CODE BOX to implement code that is needed to derive a rationale\n",
    "\n",
    "from IPython.core.interactiveshell import InteractiveShell\n",
    "InteractiveShell.ast_node_interactivity = \"all\"\n",
    "\n",
    "#<Your Solution 1>\n",
    "corresponding_rationale_number = \" \"\n",
    "\n",
    "\n",
    "#<Your Solution 2>\n",
    "corresponding_rationale_number = \" \"\n",
    "#.\n",
    "#.\n",
    "#.\n",
    "#.\n",
    "#<Your Solution n>\n",
    "corresponding_rationale_number = \" \"\n",
    "\n",
    "\n",
    "#Press shift+enter to verify everything in your syntax for this solution approach is correct."
   ]
  },
  {
   "cell_type": "markdown",
   "metadata": {},
   "source": [
    "# Prompt B\n",
    "Based on your analyses/understanding, can you prescribe criteria for what factors that might reflect robustness in determining the most successful car company? Indicate True (T) or False (F) for each of the claims below by setting the \"claim_correct\" variable to T or F"
   ]
  },
  {
   "cell_type": "code",
   "execution_count": null,
   "metadata": {},
   "outputs": [],
   "source": [
    "\n",
    "#(i) A high measure of central tendencies is a good enough solution since it is informative about the overall distribution of the number of car units sold and employee satisfaction\n",
    "claim_correct = ' '\n",
    "\n",
    "#-------\n",
    "\n",
    "#(ii) A high measure of central tendencies is not a good enough solution since it is not informative about the overall distribution of the number of car units sold and employee satisfaction\n",
    "claim_correct = ' '\n",
    "\n",
    "#-------\n",
    "\n",
    "#(iii) Only certain measures of central tendency such as mean should be used in developing solutions since it is invariant to the type of data distribution\n",
    "claim_correct = ' '\n",
    "\n",
    "#-------\n",
    "\n",
    "#(iv) Only certain measures of central tendency such as median should be used in developing solutions since it is invariant to the type of data distribution\n",
    "claim_correct = ' '\n",
    "\n",
    "#-------\n",
    "\n",
    "#(v) High mean value means that both number of car units sold and employee satisfaction are high, and therefore there are definitely no outliers in the data\n",
    "claim_correct = ' '\n",
    "\n",
    "#-------\n",
    "\n",
    "#(vi) High mean value means that both number of car units sold and employee satisfaction are high, and therefore there might be some outliers in the data that cause this\n",
    "claim_correct = ' '\n",
    "\n",
    "#-------\n",
    "\n",
    "#(vii) A high measure of spread is a good enough solution since it is informative about the overall distribution of the number of car units sold and employee satisfaction\n",
    "claim_correct = ' '\n",
    "\n",
    "#-------\n",
    "\n",
    "#(viii) A high measure of spread is not a good enough solution since it is not informative about the fixed reference point relative to which the spread is considered\n",
    "claim_correct = ' '\n",
    "\n",
    "#-------\n",
    "\n",
    "#(ix) Ideally, a higher value for central tendency with a lower value for a measure of spread should be good enough to provide justification for the most successful car company for any set of datasets, because this means that not only are the number of car units sold and employee satisfaction high, but also that there is very low variability\n",
    "claim_correct = ' '\n",
    "\n",
    "#-------\n",
    "\n",
    "#(x) Ideally, a higher value for central tendency with a lower value for a measure of spread should not be good enough to provide justification for the most successful car company for any set of datasets, because this is not informative about how different variables covary\n",
    "claim_correct = ' '\n",
    "\n",
    "#-------\n",
    "\n",
    "#(xi) Justification for the most successful car company should be independent of the co-variation between dataset variables, because high central tendency and lower individual variability automatically implies that the co-variation will be high (higher number of car units produced will be related to higher employee satisfaction), and therefore calculation of a measure of co-variability just provides redundant information.\n",
    "claim_correct = ' '\n",
    "\n",
    "#-------\n",
    "\n",
    "#(xii) Considering co-variability between dataset variables should be important because high central tendency and lower individual variability do not provide information about the precise ordering of dataset instance pairs, which affects how number of car units produced and employee satisfaction are related\n",
    "claim_correct = ' '\n",
    "\n",
    "#-------\n",
    "\n",
    "#(xiii) Knowing that a positive relationship exists between dataset variables is a good enough solution, since it means that greater the number of car units sold, greater the employee satisfaction\n",
    "claim_correct = ' '\n",
    "\n",
    "#-------\n",
    "\n",
    "#(xiv) Knowing that a positive relationship exists between dataset variables is a not a good enough solution, since the rate of increase might not be consistent, and this affects interpretation of the data\n",
    "claim_correct = ' '\n",
    "\n",
    "#-------\n",
    "\n",
    "#(xv) If there is a positive relationship between dataset variables, we can infer that higher number of car units produced causes employees to be more satisfied with their work.\n",
    "claim_correct = ' '\n",
    "\n",
    "#-------\n",
    "\n",
    "#(xvi) If there is a positive relationship between dataset variables, we can infer that greater employee satisfaction causes better work quality, and therefore more number of car units are produced\n",
    "claim_correct = ' '\n",
    "\n",
    "#-------\n",
    "\n",
    "#(xvii) Parametric and Non-parametric statistics reflect the overall data pattern, which implies that the patterns present in subgroups within the data are also captured fully. This means that all possible evidence for determining the most successful car company can be completely derived from these numerical representations.\n",
    "claim_correct = ' '\n",
    "\n",
    "#-------\n",
    "\n",
    "#(xviii) Parametric and Non-parametric statistics reflect the overall data pattern, which however doesn't say much about patterns present in subgroups within the data. This means that all possible evidence for determining the most successful car company cannot be completely derived from these numerical representations.\n",
    "claim_correct = ' '\n",
    "\n",
    "\n",
    "#-------"
   ]
  },
  {
   "cell_type": "markdown",
   "metadata": {},
   "source": [
    "# Prompt C\n",
    "You now have the opportunity to refine your original measures/rationales/approaches that you created at the beginning for car companies A, B, C, D, or generate alternative (new) measures/rationales/approaches that are not based on parametric and non-parametric statistics. You can do this by writing a few sentences in the variable \"rationale\\_refined\\_number\"\n",
    "\n",
    "You may also subsequently change your **final** conclusion by changing the variable \"most_successful_car_company\" to A, B, C, D, or choose to keep the **final** conclusion same as your **initial** conclusion.\n",
    "\n",
    "\n",
    "**TASK GUIDELINES**:\n",
    "\n",
    "If you need to add more rationales, just create new variables and write your reasoning there.\n",
    "\n",
    "If you need to implement any piece of code before writing down your rationale, a code box is provided below to try out your code. For each approach, change \"corresponding_rationale_number\" variable to indicate what rationale number does your code piece correspond to.\n",
    "\n",
    "For every prior measures/rationales/approaches you refine, additionally also mark the \"previous_rationale_id\" variable to indicate which prior measure/rationale/approach are you modifying (e.g: 1, 2, 3 etc).\n",
    "\n",
    "For every new measure/rationale/approach you generate, leave the \"previous_rationale_id\" variable unchanged."
   ]
  },
  {
   "cell_type": "code",
   "execution_count": null,
   "metadata": {},
   "outputs": [],
   "source": [
    "most_successful_car_company = ' '\n",
    "\n",
    "rationale_refined_1 = \" \"\n",
    "previous_rationale_id = \"None\"\n",
    "\n",
    "rationale_refined_2 = \" \"\n",
    "previous_rationale_id = \"None\"\n",
    "#.\n",
    "#.\n",
    "#.\n",
    "#.\n",
    "rationale_refined_n = \" \"\n",
    "previous_rationale_id = \"None\"\n",
    "\n",
    "#Thanks for completing the task!!"
   ]
  },
  {
   "cell_type": "code",
   "execution_count": null,
   "metadata": {},
   "outputs": [],
   "source": [
    "#CODE BOX to implement code that is needed to derive a rationale\n",
    "\n",
    "from IPython.core.interactiveshell import InteractiveShell\n",
    "InteractiveShell.ast_node_interactivity = \"all\"\n",
    "\n",
    "#<Your Refined Solution 1>\n",
    "corresponding_rationale_number = \" \"\n",
    "\n",
    "\n",
    "#<Your Refined Solution 2>\n",
    "corresponding_rationale_number = \" \"\n",
    "#.\n",
    "#.\n",
    "#.\n",
    "#.\n",
    "#<Your Refined Solution n>\n",
    "corresponding_rationale_number = \" \"\n",
    "\n",
    "\n",
    "#Press shift+enter to verify everything in your syntax for this solution approach is correct."
   ]
  }
 ],
 "metadata": {},
 "nbformat": 4,
 "nbformat_minor": 2
}
