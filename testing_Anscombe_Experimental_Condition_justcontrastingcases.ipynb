{
 "cells": [
  {
   "cell_type": "markdown",
   "metadata": {},
   "source": [
    "# Instructions / Notes: Read these carefully\n",
    "Read and execute each cell in order, without skipping forward.\n",
    "Documentation file for Pandas library (with search facility) is available at http://pandas.pydata.org/pandas-docs/stable/index.html ;\n",
    "Documentation file for Matplotlib plotting library (with search facility) is available at https://matplotlib.org/api/index.html"
   ]
  },
  {
   "cell_type": "code",
   "execution_count": null,
   "metadata": {},
   "outputs": [],
   "source": [
    "# Run the following to import necessary packages and import dataset. Do not use any additional plotting libraries.\n",
    "import pandas as pd\n",
    "import numpy as np\n",
    "from IPython.core.interactiveshell import InteractiveShell\n",
    "InteractiveShell.ast_node_interactivity = \"all\"\n",
    "import matplotlib\n",
    "import matplotlib.pyplot as plt\n",
    "%matplotlib inline\n",
    "matplotlib.style.use('ggplot')\n",
    "\n",
    "d1 = \"phase1_dataset1.csv\"\n",
    "d2 = \"phase1_dataset2.csv\"\n",
    "d3 = \"phase1_dataset3.csv\"\n",
    "d4 = \"phase1_dataset4.csv\"\n",
    "\n",
    "df1 = pd.read_csv(d1)\n",
    "df2 = pd.read_csv(d2)\n",
    "df3 = pd.read_csv(d3)\n",
    "df4 = pd.read_csv(d4)\n",
    "df1.head(n=5)"
   ]
  },
  {
   "cell_type": "markdown",
   "metadata": {},
   "source": [
    "Each of the 4 dataframes loaded above represents dataset of 4 car companies A, B, C, D from 182 sites all over the world. For each site,  X: total number of units sold (in 100’s), Y: employee satisfaction on a scale of 1 to 100. Check some of the descriptive (parametric and non-parametric) statistics below for **car company A**."
   ]
  },
  {
   "cell_type": "code",
   "execution_count": null,
   "metadata": {},
   "outputs": [],
   "source": [
    "from IPython.core.interactiveshell import InteractiveShell\n",
    "InteractiveShell.ast_node_interactivity = \"all\"\n",
    "#You will receive 6 outputs: First 3 outputs correspond to parametric statistics of the data (mean of both variables, standard deviation of both variables, Pearson's correlation between both variables), Last 3 outputs correspond to non-parametric statistics of the data (median of both variables, inter-quartile range of both variables, Spearman's correlation between both variables)\n",
    "df1.mean()\n",
    "df1.std()\n",
    "df1.corr(method='pearson')\n",
    "df1.median()\n",
    "df1.quantile(0.75) - df1.quantile(0.25)\n",
    "df1.corr(method='spearman')"
   ]
  },
  {
   "cell_type": "markdown",
   "metadata": {},
   "source": [
    "Each of the 4 dataframes loaded above represents dataset of 4 car companies A, B, C, D from 182 sites all over the world. For each site,  X: total number of units sold (in 100’s), Y: employee satisfaction on a scale of 1 to 100. Check some of the descriptive (parametric and non-parametric) statistics below for **car company B**."
   ]
  },
  {
   "cell_type": "code",
   "execution_count": null,
   "metadata": {},
   "outputs": [],
   "source": [
    "from IPython.core.interactiveshell import InteractiveShell\n",
    "InteractiveShell.ast_node_interactivity = \"all\"\n",
    "#You will receive 6 outputs: First 3 outputs correspond to parametric statistics of the data (mean of both variables, standard deviation of both variables, Pearson's correlation between both variables), Last 3 outputs correspond to non-parametric statistics of the data (median of both variables, inter-quartile range of both variables, Spearman's correlation between both variables)\n",
    "df2.mean()\n",
    "df2.std()\n",
    "df2.corr(method='pearson')\n",
    "df2.median()\n",
    "df2.quantile(0.75) - df2.quantile(0.25)\n",
    "df2.corr(method='spearman')"
   ]
  },
  {
   "cell_type": "markdown",
   "metadata": {},
   "source": [
    "Each of the 4 dataframes loaded above represents dataset of 4 car companies A, B, C, D from 182 sites all over the world. For each site,  X: total number of units sold (in 100’s), Y: employee satisfaction on a scale of 1 to 100. Check some of the descriptive (parametric and non-parametric) statistics below for **car company C**."
   ]
  },
  {
   "cell_type": "code",
   "execution_count": null,
   "metadata": {},
   "outputs": [],
   "source": [
    "from IPython.core.interactiveshell import InteractiveShell\n",
    "InteractiveShell.ast_node_interactivity = \"all\"\n",
    "#You will receive 6 outputs: First 3 outputs correspond to parametric statistics of the data (mean of both variables, standard deviation of both variables, Pearson's correlation between both variables), Last 3 outputs correspond to non-parametric statistics of the data (median of both variables, inter-quartile range of both variables, Spearman's correlation between both variables)\n",
    "df3.mean()\n",
    "df3.std()\n",
    "df3.corr(method='pearson')\n",
    "df3.median()\n",
    "df3.quantile(0.75) - df3.quantile(0.25)\n",
    "df3.corr(method='spearman')"
   ]
  },
  {
   "cell_type": "markdown",
   "metadata": {},
   "source": [
    "Each of the 4 dataframes loaded above represents dataset of 4 car companies A, B, C, D from 182 sites all over the world. For each site,  X: total number of units sold (in 100’s), Y: employee satisfaction on a scale of 1 to 100. Check some of the descriptive (parametric and non-parametric) statistics below for **car company D**."
   ]
  },
  {
   "cell_type": "code",
   "execution_count": null,
   "metadata": {},
   "outputs": [],
   "source": [
    "from IPython.core.interactiveshell import InteractiveShell\n",
    "InteractiveShell.ast_node_interactivity = \"all\"\n",
    "#You will receive 6 outputs: First 3 outputs correspond to parametric statistics of the data (mean of both variables, standard deviation of both variables, Pearson's correlation between both variables), Last 3 outputs correspond to non-parametric statistics of the data (median of both variables, inter-quartile range of both variables, Spearman's correlation between both variables)\n",
    "df4.mean()\n",
    "df4.std()\n",
    "df4.corr(method='pearson')\n",
    "df4.median()\n",
    "df4.quantile(0.75) - df4.quantile(0.25)\n",
    "df4.corr(method='spearman')"
   ]
  },
  {
   "cell_type": "markdown",
   "metadata": {},
   "source": [
    "# TASK\n",
    "Design as many measures/rationales/approaches to determine the most successful car company by considering **only measures based on/derived from the parametric statistics from the list presented to you (mean, standard deviation, Pearson's correlation)**, OR, **only measures based on/derived from the non-parametric statistics from the list presented to you (median, inter-quartile range, Spearman's correlation)**. Your measures should be based on consideration of every data point in the dataset.\n",
    "\n",
    "Write your **conclusion** by changing the variable \"most\\_successful\\_car\\_company\" to A, B, C, D. Also, briefly explain each approach by writing a few sentences in the variable \"rationale\\_number\". If you need to add more rationales, just create new variables and write your reasoning there.\n",
    "\n",
    "**TASK GUIDELINES**: If you need to implement any piece of code before writing down your rationale, a code box is provided below to try out your code. For each approach, change \"corresponding_rationale_number\" variable to indicate what rationale number does your code piece correspond to. "
   ]
  },
  {
   "cell_type": "code",
   "execution_count": null,
   "metadata": {},
   "outputs": [],
   "source": [
    "most_successful_car_company = ' '\n",
    "\n",
    "\n",
    "rationale_1 = \" \"\n",
    "rationale_2 = \" \"\n",
    "#.\n",
    "#.\n",
    "#.\n",
    "#.\n",
    "rationale_n = \" \"\n",
    "\n",
    "\n",
    "#Thanks for completing this phase of the task!! You can now proceed "
   ]
  },
  {
   "cell_type": "code",
   "execution_count": null,
   "metadata": {},
   "outputs": [],
   "source": [
    "#CODE BOX to implement code that is needed to derive a rationale\n",
    "\n",
    "from IPython.core.interactiveshell import InteractiveShell\n",
    "InteractiveShell.ast_node_interactivity = \"all\"\n",
    "\n",
    "#<Your Solution 1>\n",
    "corresponding_rationale_number = \" \"\n",
    "\n",
    "\n",
    "#<Your Solution 2>\n",
    "corresponding_rationale_number = \" \"\n",
    "#.\n",
    "#.\n",
    "#.\n",
    "#.\n",
    "#<Your Solution n>\n",
    "corresponding_rationale_number = \" \"\n",
    "\n",
    "\n",
    "#Press shift+enter to verify everything in your syntax for this solution approach is correct."
   ]
  },
  {
   "cell_type": "markdown",
   "metadata": {},
   "source": [
    "# Prompt A\n",
    "How about trying these solution approaches for this alternative dataset of 4 other car companies E, F, G, H from 182 sites all over the world? For each site, X: total number of units sold (in 100’s), Y: employee satisfaction on a scale of 1 to 100.\n",
    "\n",
    "Write your conclusion by changing the variable \"most\\_successful\\_car\\_company\" to E, F, G, H. Also, briefly explain each approach by writing a few sentences in the variable \"rationale\\_number\". If you need to add more rationales, just create new variables and write your reasoning there.\n",
    "\n",
    "**TASK GUIDELINES**: If you need to implement any piece of code before writing down your rationale, a code box is provided below to try out your code. For each approach, change \"corresponding_rationale_number\" variable to indicate what rationale number does your code piece correspond to."
   ]
  },
  {
   "cell_type": "code",
   "execution_count": null,
   "metadata": {},
   "outputs": [],
   "source": [
    "import pandas as pd\n",
    "import numpy as np\n",
    "from IPython.core.interactiveshell import InteractiveShell\n",
    "InteractiveShell.ast_node_interactivity = \"all\"\n",
    "import matplotlib\n",
    "import matplotlib.pyplot as plt\n",
    "%matplotlib inline\n",
    "matplotlib.style.use('ggplot')\n",
    "d5 = \"phase2_dataset1.csv\"\n",
    "d6 = \"phase2_dataset2.csv\"\n",
    "d7 = \"phase2_dataset3.csv\"\n",
    "d8 = \"phase2_dataset4.csv\"\n",
    "\n",
    "df5 = pd.read_csv(d5)\n",
    "df6 = pd.read_csv(d6)\n",
    "df7 = pd.read_csv(d7)\n",
    "df8 = pd.read_csv(d8)\n",
    "df5.head(n=5)"
   ]
  },
  {
   "cell_type": "code",
   "execution_count": null,
   "metadata": {},
   "outputs": [],
   "source": [
    "most_successful_car_company = ' '\n",
    "\n",
    "rationale_1 = \" \"\n",
    "rationale_2 = \" \"\n",
    "#.\n",
    "#.\n",
    "#.\n",
    "#.\n",
    "rationale_n = \" \"\n",
    "\n",
    "#Thanks for completing the task!!"
   ]
  },
  {
   "cell_type": "code",
   "execution_count": null,
   "metadata": {},
   "outputs": [],
   "source": [
    "#CODE BOX to implement code that is needed to derive a rationale\n",
    "\n",
    "from IPython.core.interactiveshell import InteractiveShell\n",
    "InteractiveShell.ast_node_interactivity = \"all\"\n",
    "\n",
    "#<Your Solution 1>\n",
    "corresponding_rationale_number = \" \"\n",
    "\n",
    "\n",
    "#<Your Solution 2>\n",
    "corresponding_rationale_number = \" \"\n",
    "#.\n",
    "#.\n",
    "#.\n",
    "#.\n",
    "#<Your Solution n>\n",
    "corresponding_rationale_number = \" \"\n",
    "\n",
    "\n",
    "#Press shift+enter to verify everything in your syntax for this solution approach is correct."
   ]
  },
  {
   "cell_type": "markdown",
   "metadata": {},
   "source": [
    "# Prompt B\n",
    "You now have the opportunity to refine your original measures/rationales/approaches that you created at the beginning for car companies A, B, C, D, or generate alternative (new) measures/rationales/approaches that are not based on parametric and non-parametric statistics. You can do this by writing a few sentences in the variable \"rationale\\_refined\\_number\"\n",
    "\n",
    "You may also subsequently change your **final** conclusion by changing the variable \"most_successful_car_company\" to A, B, C, D, or choose to keep the **final** conclusion same as your **initial** conclusion.\n",
    "\n",
    "\n",
    "**TASK GUIDELINES**:\n",
    "\n",
    "If you need to add more rationales, just create new variables and write your reasoning there.\n",
    "\n",
    "If you need to implement any piece of code before writing down your rationale, a code box is provided below to try out your code. For each approach, change \"corresponding_rationale_number\" variable to indicate what rationale number does your code piece correspond to.\n",
    "\n",
    "For every prior measures/rationales/approaches you refine, additionally also mark the \"previous_rationale_id\" variable to indicate which prior measure/rationale/approach are you modifying (e.g: 1, 2, 3 etc).\n",
    "\n",
    "For every new measure/rationale/approach you generate, leave the \"previous_rationale_id\" variable unchanged."
   ]
  },
  {
   "cell_type": "code",
   "execution_count": null,
   "metadata": {},
   "outputs": [],
   "source": [
    "most_successful_car_company = ' '\n",
    "\n",
    "rationale_refined_1 = \" \"\n",
    "previous_rationale_id = \"None\"\n",
    "\n",
    "rationale_refined_2 = \" \"\n",
    "previous_rationale_id = \"None\"\n",
    "#.\n",
    "#.\n",
    "#.\n",
    "#.\n",
    "rationale_refined_n = \" \"\n",
    "previous_rationale_id = \"None\"\n",
    "\n",
    "#Thanks for completing the task!!"
   ]
  },
  {
   "cell_type": "code",
   "execution_count": null,
   "metadata": {},
   "outputs": [],
   "source": [
    "#CODE BOX to implement code that is needed to derive a rationale\n",
    "\n",
    "from IPython.core.interactiveshell import InteractiveShell\n",
    "InteractiveShell.ast_node_interactivity = \"all\"\n",
    "\n",
    "#<Your Refined Solution 1>\n",
    "corresponding_rationale_number = \" \"\n",
    "\n",
    "\n",
    "#<Your Refined Solution 2>\n",
    "corresponding_rationale_number = \" \"\n",
    "#.\n",
    "#.\n",
    "#.\n",
    "#.\n",
    "#<Your Refined Solution n>\n",
    "corresponding_rationale_number = \" \"\n",
    "\n",
    "\n",
    "#Press shift+enter to verify everything in your syntax for this solution approach is correct."
   ]
  }
 ],
 "metadata": {},
 "nbformat": 4,
 "nbformat_minor": 2
}
